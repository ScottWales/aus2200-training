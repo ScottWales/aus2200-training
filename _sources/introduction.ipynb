{
 "cells": [
  {
   "cell_type": "markdown",
   "id": "900e0d3e-22aa-4055-b3cf-da7a8b012336",
   "metadata": {
    "tags": []
   },
   "source": [
    "# Introduction\n",
    "\n",
    "Aus2200 is a regional configuration of the Unified Model. It simulates the Australian continent with a grid spacing of 0.0198 degrees (approx. 2200m), using RA3 science settings.\n",
    "\n",
    "In this tutorial we'll run a subset of the domain covering the [Canberra hail storms](https://knowledge.aidr.org.au/resources/hailstorm-act-january-2020/) in January 2020.\n",
    "\n",
    "The UM supports one-way nesting of models, where the inner domain gets initial and boundary conditions from an outer domain, but the outer domain is not affected by what's happening in the inner domain. The driving data can come from either a previous UM run's output or from [GRIB-formatted data](https://code.metoffice.gov.uk/doc/um/latest/papers/umdp_303.pdf)."
   ]
  },
  {
   "cell_type": "markdown",
   "id": "701d6961-fcf8-4bc0-a1a7-33aba01e5a7e",
   "metadata": {},
   "source": [
    "## RMED\n",
    "\n",
    "[RMED](https://code.metoffice.gov.uk/trac/rmed) is the Unified Model Regional Model Evaluation and Development project, and it is the basis for most regional workflows. RMED provides a number of workflows:\n",
    "\n",
    "* [Regional Ancillary Suite](https://code.metoffice.gov.uk/trac/rmed/wiki/suites/RAS)\n",
    "* [Regional Nesting Suite](https://code.metoffice.gov.uk/trac/rmed/wiki/suites/nesting)\n",
    "* [Ensemble Nesting Suite](https://code.metoffice.gov.uk/trac/rmed/wiki/suites/ensemble)\n",
    "* [Regional Coupled Suite](https://code.metoffice.gov.uk/trac/rmed/wiki/suites/coupl)\n",
    "* [Regional Evaluation Suite](https://code.metoffice.gov.uk/trac/rmed/wiki/suites/eval)\n",
    "\n",
    "Aus2200 makes use of the Regional Ancillary Suite for creating ancillary data (e.g. orography, vegetation) and the Regional Nesting Suite for running the model itself\n",
    "\n",
    "These suites are all relocatable to arbitrary domains. The general workflow of the RMED suites is ancillaries are created in the RAS, then one of RNS, ENS or RCS is used to run the model. The model can then be compared against observations using the RES."
   ]
  }
 ],
 "metadata": {
  "kernelspec": {
   "display_name": "Python [conda env:analysis3]",
   "language": "python",
   "name": "conda-env-analysis3-py"
  },
  "language_info": {
   "codemirror_mode": {
    "name": "ipython",
    "version": 3
   },
   "file_extension": ".py",
   "mimetype": "text/x-python",
   "name": "python",
   "nbconvert_exporter": "python",
   "pygments_lexer": "ipython3",
   "version": "3.9.17"
  }
 },
 "nbformat": 4,
 "nbformat_minor": 5
}
