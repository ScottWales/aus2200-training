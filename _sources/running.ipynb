{
 "cells": [
  {
   "cell_type": "markdown",
   "id": "483e97d3-9fff-4a96-a827-d1eda87fed80",
   "metadata": {
    "jp-MarkdownHeadingCollapsed": true,
    "tags": []
   },
   "source": [
    "## Running the Model\n",
    "\n",
    "### Nesting and Configurations\n",
    "\n",
    "### Cycles\n",
    "\n",
    "### Driving Data\n",
    "\n",
    "#### ERA5\n",
    "\n",
    "ECMWF's ERA5 \n",
    "\n",
    "#### BARRA2\n",
    "\n",
    "### Output Fields\n",
    "\n",
    "### Exercise\n",
    "\n",
    "* Add a new output field\n",
    "* Run the model "
   ]
  }
 ],
 "metadata": {
  "kernelspec": {
   "display_name": "Python [conda env:analysis3]",
   "language": "python",
   "name": "conda-env-analysis3-py"
  },
  "language_info": {
   "codemirror_mode": {
    "name": "ipython",
    "version": 3
   },
   "file_extension": ".py",
   "mimetype": "text/x-python",
   "name": "python",
   "nbconvert_exporter": "python",
   "pygments_lexer": "ipython3",
   "version": "3.9.15"
  }
 },
 "nbformat": 4,
 "nbformat_minor": 5
}
