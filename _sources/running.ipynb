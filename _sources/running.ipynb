{
 "cells": [
  {
   "cell_type": "markdown",
   "id": "85393433-bc24-4bbb-9b2c-d186499c5c00",
   "metadata": {
    "tags": []
   },
   "source": [
    "# Running the Model\n",
    "\n",
    "The [Regional Nesting Suite](https://code.metoffice.gov.uk/trac/rmed/wiki/suites/nesting) is used to run one or more regional models nested inside each other, optionally with a global driving model. \n",
    "\n",
    "Suite **u-cy369** has been set up to run our sample domain. Check out the suite with `rosie checkout` and open it in `rose edit`. Make sure to set the SITE to `nci-gadi` in 'General Run Options'.\n",
    "\n",
    "## Driving Data\n",
    "\n",
    "There are several ways to drive the RNS. Not all options are enabled at NCI, talk to your local support if you would like to use a method that's not been ported.\n",
    "\n",
    "At NCI, you can choose one of:\n",
    " 1. Run a full global model\n",
    " 2. Run from ERA5\n",
    " 3. Run from a start dump and LBC files from a previous run\n",
    " \n",
    "### Global Model \n",
    "\n",
    "To drive with a full global model choose \"UM Global Model\", \"Re-run from analyses on disk\". You will need to provide an initial conditions file.\n",
    "\n",
    "![driving model global settings](images/driving-model-global.png)\n",
    "\n",
    "### ERA5\n",
    "\n",
    "NCI have a mirror of ECMWF's ERA5 dataset. To drive the model with this data choose \"ECMWF forecast fields\", \"EC analysis/re-analysis\". You will need to create a set of ancillaries to convert the ERA5 data to UM format. These can be created with the RAS as an additional domain, they should be at 0.1 degree resolution and cover an area ~ 10 gridpoints larger than your target domain.\n",
    "\n",
    "Settings:\n",
    " * **NCI_ERA5GRIB**: When true, runs a task to convert the ERA5 archive data to GRIB format readable by the model. Can be disabled if this has been done previously for this domain and time period\n",
    " * **dm_ec_lam_ancil_dir**: UM ancillary files for the GRIB to UM conversion\n",
    " * **dm_ec_ic_lbc_dir**: Directory to store GRIB format files\n",
    " \n",
    "![driving model era5 settings](images/driving-model-era5.png)\n",
    "\n",
    "### Files on Disk\n",
    "\n",
    "To drive the model from an arbitrary previous UM run, provided it saved LBC data, choose \"UM global model\", \"use start dumps and LBC creation files on disk\". The files don't need to be created from a global model, e.g. you could use this option with archived BARRA initial and boundary conditions.\n",
    "\n",
    "Settings:\n",
    " * **dm_ic_file**: Initial conditions\n",
    " * **dm_lbc_files**: Lateral boundary conditions\n",
    "\n",
    "These paths can include date codes like YYYYmmdd to automatically use the run's start date.\n",
    "\n",
    "![driving model file settings](images/driving-model-files.png)"
   ]
  },
  {
   "cell_type": "markdown",
   "id": "431324ab-1f5a-4786-acb7-6ec08a43ebf3",
   "metadata": {
    "tags": []
   },
   "source": [
    "## Nesting Configurations\n",
    "\n",
    "Nest configuration works similar to the Regional Ancillary Suite, however there is now one more layer - configs. \n",
    "\n",
    "### Resolutions\n",
    "\n",
    "Resolutions get the grid settings from the RAS output data.\n",
    "\n",
    "Settings:\n",
    " * **levset**: Vertical levels, must match RAS data\n",
    " * **runlen**: Forecast length\n",
    " * **ancil_dir**: Directory with ancils from RAS\n",
    "\n",
    "![nest resolution](images/nest-resolution.png)\n",
    "\n",
    "### Configs\n",
    "\n",
    "Configs let you run multiple different science configurations at the same domain to test science changes.\n",
    "\n",
    "The timestep and radiation timestep values need to be changed with resolution, see the help page.\n",
    "\n",
    "Settings:\n",
    " * **config**: Science configuration, e.g. RAL3p1\n",
    " * **stashpack**: Preset output fields, e.g for RES\n",
    " * **dt**, **raddt**: Timestep, see help page for guidance based on resolution\n",
    " * **lbc_freq**: Frequency to read in (first number) and write out (second number) lateral boundary conditions\n",
    " * **ic_lbc_src**: Resolution, Config that will drive this nest (not available for the first config)\n",
    "\n",
    "![nest config](images/nest-config.png)"
   ]
  },
  {
   "cell_type": "markdown",
   "id": "9aadd11e-d35f-4086-a54b-c30a2656f127",
   "metadata": {
    "tags": []
   },
   "source": [
    "## Cycles\n",
    "\n",
    "Date settings for the RNS are set in the \"Cycling Options\" panel\n",
    "\n",
    "The RAS can be run in either re-initialised mode or free-running mode. In re-initialised mode the driving model and all nests will be restarted every `CYCLE_INT_HR` hours from a new analysis. In free-running mode each nest's outputs from the previous cycle are fed in to the next cycle.\n",
    "\n",
    "The amount of time each nest runs for is set at the Resolution level as `rgNN_rsNN_mNN_runlen`. When in free-running mode this should match `CYCLE_INT_HR`, and each nest should not have a longer runlen than its driving model.\n",
    "\n",
    "![cycling options](images/cycling.png)"
   ]
  },
  {
   "cell_type": "markdown",
   "id": "491fac15-a4a1-4af1-a83a-44e917cd22da",
   "metadata": {
    "tags": []
   },
   "source": [
    "## Output Fields and Science Configuration\n",
    "\n",
    "General science options can be set under the \"um\" section on the left. Take note that the Config's science configuration may override the settings in the user interface, hover over the hand icon to see what options override that setting\n",
    "\n",
    "![science options](images/science.png)\n",
    "\n",
    "Likewise output fields use the standard STASH configuration - each field needs a domain processing (dom), a time processing (tim), and an output (use).\n",
    "\n",
    "Presets are:\n",
    "* Domains\n",
    "    * `atm_soil`: soil levels\n",
    "    * `diag`: single level\n",
    "    * `dpft`, `dtyle`: land/vegetation types\n",
    "    * `p850_200`: 5 pressure levels from 850 to 200 hPa\n",
    "    * `plevs`: 22 pressure levels from 1000 to 30 hPa\n",
    "    * `ro_1_80`: rho levels 1 to 80\n",
    "    * `th_0_40`, `th_1_60`, `th_1_80`, `th_1`: theta levels 0 to 40, 1 to 60, 1 to 80, 1\n",
    "    \n",
    "* Times\n",
    "    * `t1hr`: Hourly instantaneous\n",
    "    * `t1hr_mn`: Hourly mean\n",
    "    * `t3hr`: 3-hourly instantaneous\n",
    "    * `tacc3hr`: 3-hourly accumulation\n",
    "    * `tacc6hr`: 6-hourly accumulation\n",
    "    * `ts0`: Timestep 0\n",
    "    * `ts1`: Timestep 1\n",
    "    \n",
    "* Usage\n",
    "    * `60_diags`: Output file `$DATAM/${RUNID}a_pa%N`\n",
    "    \n",
    "![stash options](images/stash.png)\n",
    "\n",
    "## Exercise\n",
    "\n",
    "Add a new output field, or change the **stashpack** settings (make sure to leave **verstash** enabled), then run the model\n",
    "\n",
    "![Cylc view](images/cylc-rns.png)"
   ]
  },
  {
   "cell_type": "code",
   "execution_count": null,
   "id": "03b9cff0-62e3-4fe5-a0aa-bc12866f9c1c",
   "metadata": {},
   "outputs": [],
   "source": []
  }
 ],
 "metadata": {
  "kernelspec": {
   "display_name": "Python [conda env:analysis3]",
   "language": "python",
   "name": "conda-env-analysis3-py"
  },
  "language_info": {
   "codemirror_mode": {
    "name": "ipython",
    "version": 3
   },
   "file_extension": ".py",
   "mimetype": "text/x-python",
   "name": "python",
   "nbconvert_exporter": "python",
   "pygments_lexer": "ipython3",
   "version": "3.9.17"
  }
 },
 "nbformat": 4,
 "nbformat_minor": 5
}
