{
 "cells": [
  {
   "cell_type": "markdown",
   "id": "14ce4065-e797-4ab5-a8d9-fd17fdaf9b9d",
   "metadata": {},
   "source": [
    "## Model Outputs\n",
    "\n",
    "### Iris\n",
    "\n",
    "https://scitools-iris.readthedocs.io/en/stable/\n",
    "\n",
    "### Mule\n",
    "\n",
    "https://code.metoffice.gov.uk/doc/um/mule/latest/\n",
    "\n",
    "### Xarray\n",
    "\n",
    "https://docs.xarray.dev/en/latest/index.html\n",
    "\n",
    "https://docs.xarray.dev/en/latest/generated/xarray.DataArray.from_iris.html\n",
    "\n",
    "### Exercise\n",
    "\n",
    "* Make a plot from the output data"
   ]
  }
 ],
 "metadata": {
  "kernelspec": {
   "display_name": "Python [conda env:analysis3]",
   "language": "python",
   "name": "conda-env-analysis3-py"
  },
  "language_info": {
   "codemirror_mode": {
    "name": "ipython",
    "version": 3
   },
   "file_extension": ".py",
   "mimetype": "text/x-python",
   "name": "python",
   "nbconvert_exporter": "python",
   "pygments_lexer": "ipython3",
   "version": "3.9.15"
  }
 },
 "nbformat": 4,
 "nbformat_minor": 5
}
