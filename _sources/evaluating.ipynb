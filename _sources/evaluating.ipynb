{
 "cells": [
  {
   "cell_type": "markdown",
   "id": "c4d2d987-f45e-40dd-b4ad-6a307259ec19",
   "metadata": {},
   "source": [
    "## Evaluating the Model\n",
    "\n",
    "### Exercise\n",
    "\n",
    "* Compare the model output with observations"
   ]
  }
 ],
 "metadata": {
  "kernelspec": {
   "display_name": "Python [conda env:analysis3]",
   "language": "python",
   "name": "conda-env-analysis3-py"
  },
  "language_info": {
   "codemirror_mode": {
    "name": "ipython",
    "version": 3
   },
   "file_extension": ".py",
   "mimetype": "text/x-python",
   "name": "python",
   "nbconvert_exporter": "python",
   "pygments_lexer": "ipython3",
   "version": "3.9.15"
  }
 },
 "nbformat": 4,
 "nbformat_minor": 5
}
