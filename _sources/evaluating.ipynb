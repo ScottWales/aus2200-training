{
 "cells": [
  {
   "cell_type": "markdown",
   "id": "c4d2d987-f45e-40dd-b4ad-6a307259ec19",
   "metadata": {},
   "source": [
    "# Evaluating the Model\n",
    "\n",
    "The [Regional Evaluation Suite](https://code.metoffice.gov.uk/trac/rmed/wiki/suites/eval) can compare a regional run against observations. \n",
    "\n",
    "Suite **u-cy820** has been set up to evaluate our sample regional run. Check out the suite with `rosie checkout` and open it in `rose edit`. Make sure to set the SITE to `nci` in 'General Run Options'.\n",
    "\n",
    "<img src=\"images/res-mslp.png\" style=\"width: 600px;\"/>\n",
    "\n",
    "## General Options\n",
    "\n",
    "* **PLOT_DIR**: Plot output directory\n",
    "* **WEB_DIR**: Website output directory\n",
    "* **NUM_MODELS**: How many models to compare\n",
    "\n",
    "## Cycling Options\n",
    "\n",
    "* **TRIAL_DATES**: Start and end date of evaluation\n",
    "\n",
    "## Control/Trial model details\n",
    "\n",
    "* **data_host**: Set to `gadi`\n",
    "* **data_dir**: RNS output directory\n",
    "* **data_files**: Set to `['umqvaa_pvera%N', 'umqvaa_pverb%N', 'umqvaa_pverc%N', 'umqvaa_pverd%N']`\n",
    "* **data_format**: Set to `Fieldsfile`\n",
    "\n",
    "## Viewing output\n",
    "\n",
    "Go to the website output directory and run\n",
    "```\n",
    "python3 -m http.server\n",
    "```\n",
    "\n",
    "Right click on the link (looks like `http://0.0.0.0:8000`) and select 'Open Link'\n",
    "\n",
    "<img src=\"images/res-precip.png\" style=\"width: 600px;\"/>\n",
    "\n",
    "NCI are looking at how to make these visible in a web browser outside of ARE\n",
    "\n",
    "## Exercise\n",
    "\n",
    "I've run two runs of our target domain, the first driving the RNS with BARRA data and the second with ERA5. The website directory is `/scratch/nf33/saw562/res/web`. Open the website and explore the differences between the two models and observations."
   ]
  },
  {
   "cell_type": "code",
   "execution_count": null,
   "id": "48bbf8a6-c031-4843-8c09-aa508f3e9b5c",
   "metadata": {},
   "outputs": [],
   "source": []
  }
 ],
 "metadata": {
  "kernelspec": {
   "display_name": "Python [conda env:analysis3]",
   "language": "python",
   "name": "conda-env-analysis3-py"
  },
  "language_info": {
   "codemirror_mode": {
    "name": "ipython",
    "version": 3
   },
   "file_extension": ".py",
   "mimetype": "text/x-python",
   "name": "python",
   "nbconvert_exporter": "python",
   "pygments_lexer": "ipython3",
   "version": "3.9.15"
  }
 },
 "nbformat": 4,
 "nbformat_minor": 5
}
